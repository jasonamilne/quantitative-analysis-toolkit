{
 "cells": [
  {
   "cell_type": "code",
   "execution_count": 9,
   "metadata": {},
   "outputs": [],
   "source": [
    "import numpy as np\n",
    "from math import exp, sqrt, log\n",
    "from scipy.stats import norm"
   ]
  },
  {
   "cell_type": "markdown",
   "metadata": {},
   "source": [
    "## Black-Scholes Partial Differential Equation (PDE)\n",
    "\n",
    "The Black-Scholes PDE is given by:\n",
    "\n",
    "$$\n",
    "\\frac{\\partial V}{\\partial t} + \\frac{1}{2}\\sigma^2 S^2 \\frac{\\partial^2 V}{\\partial S^2} + r S \\frac{\\partial V}{\\partial S} - rV = 0\n",
    "$$\n",
    "\n",
    "where:\n",
    "- $V(S,t)$ is the price of the option as a function of the asset price $S$ and time $t$.\n",
    "- $\\sigma$ is the volatility.\n",
    "- $r$ is the risk-free interest rate.\n",
    "\n",
    "This PDE is derived from no-arbitrage arguments and the construction of a risk-free portfolio, and its solution yields the closed-form Black-Scholes formula for European call (and put) options.\n",
    "\n",
    "## American (US) Call and Put Options\n",
    "\n",
    "American options differ from European options in that they allow early exercise. Unlike the Black-Scholes closed-form solution for European options, American options generally do not have a closed-form solution and are typically priced using numerical methods (e.g., binomial trees, finite difference methods, or Monte Carlo simulations).\n",
    "\n",
    "- For an American call on a non-dividend paying asset, early exercise is generally suboptimal, so its price is effectively the same as the European call.\n",
    "- For an American put, early exercise may be optimal, resulting in a premium over the European put price."
   ]
  },
  {
   "cell_type": "markdown",
   "metadata": {},
   "source": [
    "## Black-Scholes Formula\n",
    "\n",
    "The Black-Scholes formula for a European call option is given by:\n",
    "\n",
    "$$\n",
    "d_1 = \\frac{\\ln\\left(\\frac{S}{K}\\right) + \\left(r + \\frac{1}{2}\\sigma^2\\right)T}{\\sigma\\sqrt{T}}\n",
    "$$\n",
    "\n",
    "$$\n",
    "d_2 = d_1 - \\sigma\\sqrt{T}\n",
    "$$\n",
    "\n",
    "The option price is computed as:\n",
    "\n",
    "$$\n",
    "C = S \\cdot N(d_1) - K \\cdot e^{-rT} \\cdot N(d_2)\n",
    "$$\n",
    "\n",
    "Where:  \n",
    "- $S$ is the current asset price.  \n",
    "- $K$ is the strike price.  \n",
    "- $T$ is the time to maturity in years.  \n",
    "- $r$ is the risk-free interest rate.  \n",
    "- $\\sigma$ is the volatility.  \n",
    "- $N(\\cdot)$ denotes the cumulative normal distribution function."
   ]
  },
  {
   "cell_type": "code",
   "execution_count": 10,
   "metadata": {},
   "outputs": [],
   "source": [
    "# The following implementation of the Black-Scholes formula is correct:\n",
    "# d1 = (log(S/K) + (r + 0.5*sigma**2)*T) / (sigma*sqrt(T))\n",
    "# d2 = d1 - sigma*sqrt(T)\n",
    "def black_scholes_call(S, K, T, r, sigma):\n",
    "    \"\"\"\n",
    "    S: asset price\n",
    "    K: strike price\n",
    "    T: time to maturity (years)\n",
    "    r: risk-free interest rate\n",
    "    sigma: volatility\n",
    "    \"\"\"\n",
    "    d1 = (log(S / K) + (r + 0.5 * sigma**2) * T) / (sigma * sqrt(T))\n",
    "    d2 = d1 - sigma * sqrt(T)\n",
    "    return S * norm.cdf(d1) - K * exp(-r * T) * norm.cdf(d2)"
   ]
  },
  {
   "cell_type": "markdown",
   "metadata": {},
   "source": [
    "## Monte Carlo Simulation for European Call Option\n",
    "\n",
    "The Monte Carlo simulation estimates the price of a European call option by simulating the terminal asset price using geometric Brownian motion. The model for the terminal price is:\n",
    "\n",
    "$$\n",
    "S_T = S \\cdot \\exp\\left[\\left(r - \\frac{1}{2}\\sigma^2\\right)T + \\sigma\\sqrt{T}\\,Z\\right]\n",
    "$$\n",
    "\n",
    "where \\(Z\\) is a standard normal random variable (\\(Z \\sim N(0,1)\\)). The payoff of the call option is given by:\n",
    "\n",
    "$$\n",
    "\\text{payoff} = \\max(S_T - K, \\, 0)\n",
    "$$\n",
    "\n",
    "The option price is then estimated as the discounted average payoff:\n",
    "\n",
    "$$\n",
    "C = e^{-rT} \\cdot \\mathbb{E}[\\text{payoff}]\n",
    "$$\n",
    "\n",
    "**Clarifications:**\n",
    "- **Z**: A standard normal random variable used in the simulation.\n",
    "- **payoff**: The value of the option at expiration, calculated as $\\max(S_T - K, 0)$.\n",
    "- **C**: The estimated call option price after discounting the average payoff.\n",
    "\n",
    "Where:  \n",
    "- $S$ is the current asset price.  \n",
    "- $K$ is the strike price.  \n",
    "- $T$ is the time to maturity in years.  \n",
    "- $r$ is the risk-free interest rate.  \n",
    "- $\\sigma$ is the volatility.  \n",
    "- $N(\\cdot)$ denotes the cumulative normal distribution function.\n"
   ]
  },
  {
   "cell_type": "code",
   "execution_count": 11,
   "metadata": {},
   "outputs": [],
   "source": [
    "# The following implementation of the Monte Carlo simulation for a European call option is correct:\n",
    "# - Uses np.random.seed for reproducibility.\n",
    "# - Simulates the terminal asset price with geometric Brownian motion.\n",
    "# - Computes the discounted average payoff.\n",
    "def monte_carlo_call_price(S, K, T, r, sigma, simulations=10000):\n",
    "    \"\"\"\n",
    "    S: asset price\n",
    "    K: strike price\n",
    "    T: time to maturity (years)\n",
    "    r: risk-free interest rate\n",
    "    sigma: volatility\n",
    "    \"\"\"\n",
    "    np.random.seed(42)  # for reproducibility\n",
    "    Z = np.random.standard_normal(simulations)\n",
    "    ST = S * np.exp((r - 0.5 * sigma**2) * T + sigma * sqrt(T) * Z)\n",
    "    payoff = np.maximum(ST - K, 0)\n",
    "    return exp(-r * T) * np.mean(payoff)"
   ]
  },
  {
   "cell_type": "code",
   "execution_count": 14,
   "metadata": {},
   "outputs": [
    {
     "name": "stdout",
     "output_type": "stream",
     "text": [
      "Black-Scholes Call Price: 45.19297367898936\n",
      "Monte Carlo Call Price: 45.25215386645332\n"
     ]
    }
   ],
   "source": [
    "def main():\n",
    "    S = 100      # asset price\n",
    "    K = 100      # strike price\n",
    "    T = 10      # time to maturity (years)\n",
    "    r = 0.05     # risk-free interest rate\n",
    "    sigma = 0.2  # volatility\n",
    "\n",
    "    bs_price = black_scholes_call(S, K, T, r, sigma)\n",
    "    mc_price = monte_carlo_call_price(S, K, T, r, sigma)\n",
    "    print(\"Black-Scholes Call Price:\", bs_price)\n",
    "    print(\"Monte Carlo Call Price:\", mc_price)\n",
    "\n",
    "if __name__ == \"__main__\":\n",
    "    main()"
   ]
  },
  {
   "cell_type": "markdown",
   "metadata": {},
   "source": [
    "Significance of this:\n",
    "\n",
    "The close agreement between the Black-Scholes call price (45.19) and the Monte Carlo call price (45.25) indicates that the Monte Carlo simulation is accurately capturing the theoretical pricing model. It validates both methods, despite their different approaches, with the small discrepancy likely due to simulation randomness and numerical approximations"
   ]
  }
 ],
 "metadata": {
  "kernelspec": {
   "display_name": "Python 3",
   "language": "python",
   "name": "python3"
  },
  "language_info": {
   "codemirror_mode": {
    "name": "ipython",
    "version": 3
   },
   "file_extension": ".py",
   "mimetype": "text/x-python",
   "name": "python",
   "nbconvert_exporter": "python",
   "pygments_lexer": "ipython3",
   "version": "3.10.12"
  }
 },
 "nbformat": 4,
 "nbformat_minor": 2
}
